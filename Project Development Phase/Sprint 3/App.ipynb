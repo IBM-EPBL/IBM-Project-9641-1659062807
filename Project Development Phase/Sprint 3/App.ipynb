{
  "nbformat": 4,
  "nbformat_minor": 0,
  "metadata": {
    "colab": {
      "provenance": []
    },
    "kernelspec": {
      "name": "python3",
      "display_name": "Python 3"
    },
    "language_info": {
      "name": "python"
    }
  },
  "cells": [
    {
      "cell_type": "code",
      "execution_count": 1,
      "metadata": {
        "id": "El6lRSU2AgjA"
      },
      "outputs": [],
      "source": [
        "import numpy as np\n",
        "from flask import Flask, request, jsonify, render_template\n",
        "import joblib\n",
        "import requests"
      ]
    },
    {
      "cell_type": "code",
      "source": [
        "app = Flask(__name__)\n",
        "model = joblib.load(\"power_prediction.sav\")"
      ],
      "metadata": {
        "id": "1r7BazNKAlEP"
      },
      "execution_count": 3,
      "outputs": []
    },
    {
      "cell_type": "code",
      "source": [
        "@app.route('/')\n",
        "def home():\n",
        "    return render_template(\"intro.html\")\n",
        "\n",
        "@app.route('/predict')\n",
        "def predict():\n",
        "    return render_template(\"predict.html\")\n",
        "\n",
        "@app.route('/windapi', methods=['POST'])\n",
        "def windapi():\n",
        "    city = request.form.get('city')\n",
        "    apikey = \"d8484354b9e388875c48dae8d0d09cd1\"\n",
        "    url = \"http://api.openweathermap.org/data/2.5/weather?q=\" + city + \"&appid=\" + apikey\n",
        "    resp = requests.get(url)\n",
        "    resp = resp.json()\n",
        "    temp = str(resp[\"main\"][\"temp\"]) +\" °C\"\n",
        "    humid = str(resp[\"main\"][\"humidity\"]) + \" %\"\n",
        "    pressure = str(resp[\"main\"][\"pressure\"]) + \" mmHG\"\n",
        "    speed = str(resp[\"wind\"][\"speed\"]) + \" m/s\"\n",
        "    return render_template('predict.html', temp=temp, humid = humid, pressure=pressure, speed = speed)"
      ],
      "metadata": {
        "id": "S9ksvuYlAmrL"
      },
      "execution_count": 4,
      "outputs": []
    },
    {
      "cell_type": "code",
      "source": [
        "@app.route('/y_predict',methods = ['POST'])\n",
        "def y_predict():\n",
        "    x_test = [[float(x) for x in request.form.values()]]\n",
        "    \n",
        "    prediction = model.predict(x_test)\n",
        "    print(prediction)\n",
        "    output = prediction[0]\n",
        "    return render_template('predict.html',prediction_text = 'The energy predicted is {:.2f} KWh'.format(output))"
      ],
      "metadata": {
        "id": "0Q5cXuklAoZj"
      },
      "execution_count": 5,
      "outputs": []
    },
    {
      "cell_type": "code",
      "source": [
        "if __name__ == \"__main__\":\n",
        "    app.run(debug=False)"
      ],
      "metadata": {
        "colab": {
          "base_uri": "https://localhost:8080/"
        },
        "id": "yXo1rOZHAqJs",
        "outputId": "52909bb8-4a35-4470-dabb-6f905c049cba"
      },
      "execution_count": 6,
      "outputs": [
        {
          "output_type": "stream",
          "name": "stdout",
          "text": [
            " * Serving Flask app \"__main__\" (lazy loading)\n",
            " * Environment: production\n",
            "\u001b[31m   WARNING: This is a development server. Do not use it in a production deployment.\u001b[0m\n",
            "\u001b[2m   Use a production WSGI server instead.\u001b[0m\n",
            " * Debug mode: off\n"
          ]
        },
        {
          "output_type": "stream",
          "name": "stderr",
          "text": [
            "INFO:werkzeug: * Running on http://127.0.0.1:5000/ (Press CTRL+C to quit)\n"
          ]
        }
      ]
    }
  ]
}